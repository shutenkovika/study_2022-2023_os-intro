{
 "cells": [
  {
   "cell_type": "code",
   "execution_count": 29,
   "id": "f8d6ce3a",
   "metadata": {},
   "outputs": [],
   "source": [
    "import numpy as np\n",
    "import operator as op\n",
    "import sys"
   ]
  },
  {
   "cell_type": "code",
   "execution_count": 70,
   "id": "1a46487b",
   "metadata": {},
   "outputs": [
    {
     "name": "stdout",
     "output_type": "stream",
     "text": [
      "22\n",
      "22\n"
     ]
    }
   ],
   "source": [
    "p1 = \"Я устала и хочу спать.\"\n",
    "p2 = \"Спокойной ночи, друг!!\"\n",
    "print(len(p1))\n",
    "print(len(p2))"
   ]
  },
  {
   "cell_type": "code",
   "execution_count": 71,
   "id": "a1592948",
   "metadata": {},
   "outputs": [],
   "source": [
    "def encrypt(text1, text2):\n",
    "    print(\"text1: \", text1)\n",
    "    newtext1=[]\n",
    "    for i in text1:\n",
    "        newtext1.append(i.encode(\"cp1251\").hex())\n",
    "    print(\"text1 in 16: \", newtext1)\n",
    "    print(\"text2: \", text2)\n",
    "    newtext2=[]\n",
    "    for i in text2:\n",
    "        newtext2.append(i.encode(\"cp1251\").hex())\n",
    "    print(\"text2 in 16: \", newtext2)\n",
    "    r=np.random.randint(0,255, len(text1))\n",
    "    key=[hex(i)[2:] for i in r]\n",
    "    newkey=[]\n",
    "    for i in newkey:\n",
    "        key.append(i.encode(\"cp1251\").hex().upper())\n",
    "    print(\"key in 16: \", key)\n",
    "    xortext1=[]\n",
    "    for i in range(len(newtext1)):\n",
    "        xortext1.append(\"{:02x}\".format(int(key[i], 16) ^ int(newtext1[i],16)))\n",
    "    print(\"cypher text1 in 16: \", xortext1)\n",
    "    en_text1=bytearray.fromhex(\"\".join(xortext1)).decode(\"cp1251\")\n",
    "    print(\"cypher text1: \", en_text1)\n",
    "    xortext2=[]\n",
    "    for i in range(len(newtext2)):\n",
    "        xortext2.append(\"{:02x}\".format(int(key[i],16)^ int(newtext2[i],16)))\n",
    "    print(\"cypher text2 in 16: \", xortext2)\n",
    "    en_text2=bytearray.fromhex(\"\".join(xortext2)).decode(\"cp1251\")\n",
    "    print(\"cypher text2: \", en_text2)\n",
    "    return key, xortext1, en_text1, xortext2, en_text2"
   ]
  },
  {
   "cell_type": "code",
   "execution_count": 72,
   "id": "997c101b",
   "metadata": {},
   "outputs": [
    {
     "name": "stdout",
     "output_type": "stream",
     "text": [
      "text1:  Я устала и хочу спать.\n",
      "text1 in 16:  ['df', '20', 'f3', 'f1', 'f2', 'e0', 'eb', 'e0', '20', 'e8', '20', 'f5', 'ee', 'f7', 'f3', '20', 'f1', 'ef', 'e0', 'f2', 'fc', '2e']\n",
      "text2:  Спокойной ночи, друг!!\n",
      "text2 in 16:  ['d1', 'ef', 'ee', 'ea', 'ee', 'e9', 'ed', 'ee', 'e9', '20', 'ed', 'ee', 'f7', 'e8', '2c', '20', 'e4', 'f0', 'f3', 'e3', '21', '21']\n",
      "key in 16:  ['54', 'b3', 'a7', '4', '15', '1', '64', '74', 'cb', 'b', '6e', '63', 'a8', 'd3', '6a', 'd', 'a0', '42', '69', '2e', 'b7', 'fa']\n",
      "cypher text1 in 16:  ['8b', '93', '54', 'f5', 'e7', 'e1', '8f', '94', 'eb', 'e3', '4e', '96', '46', '24', '99', '2d', '51', 'ad', '89', 'dc', '4b', 'd4']\n",
      "cypher text1:  ‹“TхзбЏ”лгN–F$™-Q­‰ЬKФ\n",
      "cypher text2 in 16:  ['85', '5c', '49', 'ee', 'fb', 'e8', '89', '9a', '22', '2b', '83', '8d', '5f', '3b', '46', '2d', '44', 'b2', '9a', 'cd', '96', 'db']\n",
      "cypher text2:  …\\Iоыи‰љ\"+ѓЌ_;F-DІљН–Ы\n"
     ]
    }
   ],
   "source": [
    "k, t1, et1, t2, et2 = encrypt(p1,p2)"
   ]
  },
  {
   "cell_type": "code",
   "execution_count": 73,
   "id": "a3016402",
   "metadata": {},
   "outputs": [],
   "source": [
    "def decrypt(c1, c2, p1):\n",
    "    print(\"cypher text1: \", c1)\n",
    "    newc1=[]\n",
    "    for i in c1:\n",
    "        newc1.append(i.encode(\"cp1251\").hex())\n",
    "    print(\"cypher text1 in 16: \", newc1)\n",
    "    print(\"cypher text2: \", c2)\n",
    "    newc2=[]\n",
    "    for i in c2:\n",
    "        newc2.append(i.encode(\"cp1251\").hex())\n",
    "    print(\"cypher text2 in 16: \", newc2)\n",
    "    print(\"open text1: \", p1)\n",
    "    newp1=[]\n",
    "    for i in p1:\n",
    "        newp1.append(i.encode(\"cp1251\").hex())\n",
    "    print(\"open text1 in 16: \", newp1)\n",
    "    xortmp=[]\n",
    "    sp2=[]\n",
    "    for i in range(len(p1)):\n",
    "        xortmp.append(\"{:02x}\".format(int(newc1[i],16) ^ int(newc2[i], 16)))\n",
    "    for i in range(len(p1)):\n",
    "        sp2.append(\"{:02x}\".format(int(xortmp[i],16) ^ int(newp1[i], 16)))\n",
    "    print(\"open text2 in 16: \", sp2)\n",
    "    p2=bytearray.fromhex(\"\".join(sp2)).decode(\"cp1251\")\n",
    "    print(\"open text2: \", p2)\n",
    "    return p1,p2\n",
    "    "
   ]
  },
  {
   "cell_type": "code",
   "execution_count": 74,
   "id": "41a64a64",
   "metadata": {},
   "outputs": [
    {
     "name": "stdout",
     "output_type": "stream",
     "text": [
      "cypher text1:  ‹“TхзбЏ”лгN–F$™-Q­‰ЬKФ\n",
      "cypher text1 in 16:  ['8b', '93', '54', 'f5', 'e7', 'e1', '8f', '94', 'eb', 'e3', '4e', '96', '46', '24', '99', '2d', '51', 'ad', '89', 'dc', '4b', 'd4']\n",
      "cypher text2:  …\\Iоыи‰љ\"+ѓЌ_;F-DІљН–Ы\n",
      "cypher text2 in 16:  ['85', '5c', '49', 'ee', 'fb', 'e8', '89', '9a', '22', '2b', '83', '8d', '5f', '3b', '46', '2d', '44', 'b2', '9a', 'cd', '96', 'db']\n",
      "open text1:  Я устала и хочу спать.\n",
      "open text1 in 16:  ['df', '20', 'f3', 'f1', 'f2', 'e0', 'eb', 'e0', '20', 'e8', '20', 'f5', 'ee', 'f7', 'f3', '20', 'f1', 'ef', 'e0', 'f2', 'fc', '2e']\n",
      "open text2 in 16:  ['d1', 'ef', 'ee', 'ea', 'ee', 'e9', 'ed', 'ee', 'e9', '20', 'ed', 'ee', 'f7', 'e8', '2c', '20', 'e4', 'f0', 'f3', 'e3', '21', '21']\n",
      "open text2:  Спокойной ночи, друг!!\n"
     ]
    },
    {
     "data": {
      "text/plain": [
       "('Я устала и хочу спать.', 'Спокойной ночи, друг!!')"
      ]
     },
     "execution_count": 74,
     "metadata": {},
     "output_type": "execute_result"
    }
   ],
   "source": [
    "decrypt(et1, et2, p1)"
   ]
  },
  {
   "cell_type": "code",
   "execution_count": null,
   "id": "1829fdf5",
   "metadata": {},
   "outputs": [],
   "source": []
  },
  {
   "cell_type": "code",
   "execution_count": null,
   "id": "95ca694c",
   "metadata": {},
   "outputs": [],
   "source": []
  },
  {
   "cell_type": "code",
   "execution_count": null,
   "id": "b0be2a2a",
   "metadata": {},
   "outputs": [],
   "source": []
  }
 ],
 "metadata": {
  "kernelspec": {
   "display_name": "Python 3 (ipykernel)",
   "language": "python",
   "name": "python3"
  },
  "language_info": {
   "codemirror_mode": {
    "name": "ipython",
    "version": 3
   },
   "file_extension": ".py",
   "mimetype": "text/x-python",
   "name": "python",
   "nbconvert_exporter": "python",
   "pygments_lexer": "ipython3",
   "version": "3.9.7"
  }
 },
 "nbformat": 4,
 "nbformat_minor": 5
}
