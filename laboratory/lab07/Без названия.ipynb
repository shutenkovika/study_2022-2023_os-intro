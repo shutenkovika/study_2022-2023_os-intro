{
 "cells": [
  {
   "cell_type": "code",
   "execution_count": 29,
   "id": "632965c2",
   "metadata": {},
   "outputs": [],
   "source": [
    "import numpy as np\n",
    "import pandas as pd\n",
    "import sys"
   ]
  },
  {
   "cell_type": "code",
   "execution_count": 30,
   "id": "c37b1fbb",
   "metadata": {},
   "outputs": [],
   "source": [
    "a = \"С Новым годом, друзья!\""
   ]
  },
  {
   "cell_type": "code",
   "execution_count": 31,
   "id": "de4799b9",
   "metadata": {},
   "outputs": [],
   "source": [
    "def crypt(a):\n",
    "    print(\"open text: \", a)\n",
    "    text = []\n",
    "    for i in a:\n",
    "        text.append(i.encode(\"cp1251\").hex())\n",
    "    print(\"open text in 16: \", *text)\n",
    "    k = np.random.randint(0, 255, len(a))\n",
    "    key = [hex(i)[2:] for i in k]\n",
    "    newkey = []\n",
    "    for i in key:\n",
    "        newkey.append(i.encode(\"cp1251\").hex().upper())\n",
    "    print(\"key in 16: \", *key)\n",
    "    b=[]\n",
    "    for i in range(len(text)):\n",
    "        b.append(\"{:02x}\".format(int(key[i],16)^int(text[i],16)))\n",
    "    print(\"cypter text in 16: \", *b)\n",
    "    fintext=bytearray.fromhex(\"\".join(b)).decode(\"cp1251\")\n",
    "    print(\"cypter text : \", *fintext)\n",
    "    return key, b, fintext\n",
    "    \n",
    "    \n",
    "        \n",
    "        "
   ]
  },
  {
   "cell_type": "code",
   "execution_count": 32,
   "id": "8d1420c3",
   "metadata": {},
   "outputs": [
    {
     "name": "stdout",
     "output_type": "stream",
     "text": [
      "open text:  С Новым годом, друзья!\n",
      "open text in 16:  d1 20 cd ee e2 fb ec 20 e3 ee e4 ee ec 2c 20 e4 f0 f3 e7 fc ff 21\n",
      "key in 16:  b0 7f f8 bb 70 b2 3e 7e ef 1b 18 24 bb 2a 7d bf ab ac 96 5c cf 92\n",
      "cypter text in 16:  61 5f 35 55 92 49 d2 5e 0c f5 fc ca 57 06 5d 5b 5b 5f 71 a0 30 b3\n",
      "cypter text :  a _ 5 U ’ I Т ^ \f",
      " х ь К W \u0006 ] [ [ _ q   0 і\n"
     ]
    }
   ],
   "source": [
    "key, b, findtext=crypt(a)"
   ]
  },
  {
   "cell_type": "code",
   "execution_count": 33,
   "id": "346cf9bd",
   "metadata": {},
   "outputs": [],
   "source": [
    "def findkey(a, findtext):\n",
    "    print(\"open text: \", a, \"\\ncyper text: \", fintext)\n",
    "    newtext=[]\n",
    "    for i in a:\n",
    "        newtext.append(i.encode(\"cp1251\").hex())\n",
    "    print(\"open text in 16: \", *newtext)\n",
    "    ftext=[]\n",
    "    for i in findtext:\n",
    "        ftext.append(i.encode(\"cp1251\").hex())\n",
    "    print(\"cyper text in 16: \", *ftext)\n",
    "    key = [hex(int(i,16)^int(j,16))[2:] for (i,j) in zip(newtext,ftext)]\n",
    "    print(\"found key in 16: \", *key)\n",
    "    return key\n",
    "    \n",
    "    "
   ]
  },
  {
   "cell_type": "code",
   "execution_count": 34,
   "id": "64a8f2ea",
   "metadata": {},
   "outputs": [
    {
     "name": "stdout",
     "output_type": "stream",
     "text": [
      "open text:  С Новым годом, друзья! \n",
      "cyper text:  B:Ћ/µZ!]ЇН‘ѕ\b°Ўr}6¤‰Fн\n",
      "open text in 16:  d1 20 cd ee e2 fb ec 20 e3 ee e4 ee ec 2c 20 e4 f0 f3 e7 fc ff 21\n",
      "cyper text in 16:  61 5f 35 55 92 49 d2 5e 0c f5 fc ca 57 06 5d 5b 5b 5f 71 a0 30 b3\n",
      "found key in 16:  b0 7f f8 bb 70 b2 3e 7e ef 1b 18 24 bb 2a 7d bf ab ac 96 5c cf 92\n"
     ]
    }
   ],
   "source": [
    "key1=findkey(a,findtext)"
   ]
  },
  {
   "cell_type": "code",
   "execution_count": 37,
   "id": "3759f38a",
   "metadata": {},
   "outputs": [
    {
     "name": "stdout",
     "output_type": "stream",
     "text": [
      "correct key\n"
     ]
    }
   ],
   "source": [
    "if key==key1:\n",
    "    print(\"correct key\")\n",
    "else:\n",
    "    print(\"fail, incorrect key\")"
   ]
  },
  {
   "cell_type": "code",
   "execution_count": null,
   "id": "b25f2581",
   "metadata": {},
   "outputs": [],
   "source": []
  },
  {
   "cell_type": "code",
   "execution_count": null,
   "id": "1d7b2398",
   "metadata": {},
   "outputs": [],
   "source": []
  }
 ],
 "metadata": {
  "kernelspec": {
   "display_name": "Python 3 (ipykernel)",
   "language": "python",
   "name": "python3"
  },
  "language_info": {
   "codemirror_mode": {
    "name": "ipython",
    "version": 3
   },
   "file_extension": ".py",
   "mimetype": "text/x-python",
   "name": "python",
   "nbconvert_exporter": "python",
   "pygments_lexer": "ipython3",
   "version": "3.9.7"
  }
 },
 "nbformat": 4,
 "nbformat_minor": 5
}
